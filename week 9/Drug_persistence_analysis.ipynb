{
  "nbformat": 4,
  "nbformat_minor": 0,
  "metadata": {
    "colab": {
      "name": "Drug_persistence_analysis.ipynb",
      "provenance": [],
      "collapsed_sections": []
    },
    "kernelspec": {
      "name": "python3",
      "display_name": "Python 3"
    },
    "language_info": {
      "name": "python"
    }
  },
  "cells": [
    {
      "cell_type": "code",
      "metadata": {
        "id": "E2v-5t_3brip"
      },
      "source": [
        "import pandas as pd\n",
        "import numpy as np\n",
        "import matplotlib.pyplot as plt\n"
      ],
      "execution_count": 1,
      "outputs": []
    },
    {
      "cell_type": "code",
      "metadata": {
        "id": "Y0S4HqNubziD"
      },
      "source": [
        "# to show all the columns of the dataframe in the notebook\n",
        "pd.set_option('display.max_columns', None)"
      ],
      "execution_count": 2,
      "outputs": []
    },
    {
      "cell_type": "code",
      "metadata": {
        "colab": {
          "base_uri": "https://localhost:8080/"
        },
        "id": "ZFRgTWkPb4MK",
        "outputId": "c7094787-83f2-4b87-ee50-028d433aa0b4"
      },
      "source": [
        "from google.colab import drive\n",
        "drive.mount('/content/drive')"
      ],
      "execution_count": 3,
      "outputs": [
        {
          "output_type": "stream",
          "name": "stdout",
          "text": [
            "Mounted at /content/drive\n"
          ]
        }
      ]
    },
    {
      "cell_type": "code",
      "metadata": {
        "colab": {
          "base_uri": "https://localhost:8080/",
          "height": 313
        },
        "id": "D0LETeBmb8z5",
        "outputId": "c0b6298b-a3d9-43cb-9b48-66ab461868e6"
      },
      "source": [
        "# load dataset\n",
        "\n",
        "\n",
        "\n",
        "data = pd.read_excel('/content/drive/MyDrive/Healthcare_dataset.xlsx', sheet_name='Dataset')\n",
        "\n",
        "data.head()"
      ],
      "execution_count": 4,
      "outputs": [
        {
          "output_type": "execute_result",
          "data": {
            "text/html": [
              "<div>\n",
              "<style scoped>\n",
              "    .dataframe tbody tr th:only-of-type {\n",
              "        vertical-align: middle;\n",
              "    }\n",
              "\n",
              "    .dataframe tbody tr th {\n",
              "        vertical-align: top;\n",
              "    }\n",
              "\n",
              "    .dataframe thead th {\n",
              "        text-align: right;\n",
              "    }\n",
              "</style>\n",
              "<table border=\"1\" class=\"dataframe\">\n",
              "  <thead>\n",
              "    <tr style=\"text-align: right;\">\n",
              "      <th></th>\n",
              "      <th>Ptid</th>\n",
              "      <th>Persistency_Flag</th>\n",
              "      <th>Gender</th>\n",
              "      <th>Race</th>\n",
              "      <th>Ethnicity</th>\n",
              "      <th>Region</th>\n",
              "      <th>Age_Bucket</th>\n",
              "      <th>Ntm_Speciality</th>\n",
              "      <th>Ntm_Specialist_Flag</th>\n",
              "      <th>Ntm_Speciality_Bucket</th>\n",
              "      <th>Gluco_Record_Prior_Ntm</th>\n",
              "      <th>Gluco_Record_During_Rx</th>\n",
              "      <th>Dexa_Freq_During_Rx</th>\n",
              "      <th>Dexa_During_Rx</th>\n",
              "      <th>Frag_Frac_Prior_Ntm</th>\n",
              "      <th>Frag_Frac_During_Rx</th>\n",
              "      <th>Risk_Segment_Prior_Ntm</th>\n",
              "      <th>Tscore_Bucket_Prior_Ntm</th>\n",
              "      <th>Risk_Segment_During_Rx</th>\n",
              "      <th>Tscore_Bucket_During_Rx</th>\n",
              "      <th>Change_T_Score</th>\n",
              "      <th>Change_Risk_Segment</th>\n",
              "      <th>Adherent_Flag</th>\n",
              "      <th>Idn_Indicator</th>\n",
              "      <th>Injectable_Experience_During_Rx</th>\n",
              "      <th>Comorb_Encounter_For_Screening_For_Malignant_Neoplasms</th>\n",
              "      <th>Comorb_Encounter_For_Immunization</th>\n",
              "      <th>Comorb_Encntr_For_General_Exam_W_O_Complaint,_Susp_Or_Reprtd_Dx</th>\n",
              "      <th>Comorb_Vitamin_D_Deficiency</th>\n",
              "      <th>Comorb_Other_Joint_Disorder_Not_Elsewhere_Classified</th>\n",
              "      <th>Comorb_Encntr_For_Oth_Sp_Exam_W_O_Complaint_Suspected_Or_Reprtd_Dx</th>\n",
              "      <th>Comorb_Long_Term_Current_Drug_Therapy</th>\n",
              "      <th>Comorb_Dorsalgia</th>\n",
              "      <th>Comorb_Personal_History_Of_Other_Diseases_And_Conditions</th>\n",
              "      <th>Comorb_Other_Disorders_Of_Bone_Density_And_Structure</th>\n",
              "      <th>Comorb_Disorders_of_lipoprotein_metabolism_and_other_lipidemias</th>\n",
              "      <th>Comorb_Osteoporosis_without_current_pathological_fracture</th>\n",
              "      <th>Comorb_Personal_history_of_malignant_neoplasm</th>\n",
              "      <th>Comorb_Gastro_esophageal_reflux_disease</th>\n",
              "      <th>Concom_Cholesterol_And_Triglyceride_Regulating_Preparations</th>\n",
              "      <th>Concom_Narcotics</th>\n",
              "      <th>Concom_Systemic_Corticosteroids_Plain</th>\n",
              "      <th>Concom_Anti_Depressants_And_Mood_Stabilisers</th>\n",
              "      <th>Concom_Fluoroquinolones</th>\n",
              "      <th>Concom_Cephalosporins</th>\n",
              "      <th>Concom_Macrolides_And_Similar_Types</th>\n",
              "      <th>Concom_Broad_Spectrum_Penicillins</th>\n",
              "      <th>Concom_Anaesthetics_General</th>\n",
              "      <th>Concom_Viral_Vaccines</th>\n",
              "      <th>Risk_Type_1_Insulin_Dependent_Diabetes</th>\n",
              "      <th>Risk_Osteogenesis_Imperfecta</th>\n",
              "      <th>Risk_Rheumatoid_Arthritis</th>\n",
              "      <th>Risk_Untreated_Chronic_Hyperthyroidism</th>\n",
              "      <th>Risk_Untreated_Chronic_Hypogonadism</th>\n",
              "      <th>Risk_Untreated_Early_Menopause</th>\n",
              "      <th>Risk_Patient_Parent_Fractured_Their_Hip</th>\n",
              "      <th>Risk_Smoking_Tobacco</th>\n",
              "      <th>Risk_Chronic_Malnutrition_Or_Malabsorption</th>\n",
              "      <th>Risk_Chronic_Liver_Disease</th>\n",
              "      <th>Risk_Family_History_Of_Osteoporosis</th>\n",
              "      <th>Risk_Low_Calcium_Intake</th>\n",
              "      <th>Risk_Vitamin_D_Insufficiency</th>\n",
              "      <th>Risk_Poor_Health_Frailty</th>\n",
              "      <th>Risk_Excessive_Thinness</th>\n",
              "      <th>Risk_Hysterectomy_Oophorectomy</th>\n",
              "      <th>Risk_Estrogen_Deficiency</th>\n",
              "      <th>Risk_Immobilization</th>\n",
              "      <th>Risk_Recurring_Falls</th>\n",
              "      <th>Count_Of_Risks</th>\n",
              "    </tr>\n",
              "  </thead>\n",
              "  <tbody>\n",
              "    <tr>\n",
              "      <th>0</th>\n",
              "      <td>P1</td>\n",
              "      <td>Persistent</td>\n",
              "      <td>Male</td>\n",
              "      <td>Caucasian</td>\n",
              "      <td>Not Hispanic</td>\n",
              "      <td>West</td>\n",
              "      <td>&gt;75</td>\n",
              "      <td>GENERAL PRACTITIONER</td>\n",
              "      <td>Others</td>\n",
              "      <td>OB/GYN/Others/PCP/Unknown</td>\n",
              "      <td>N</td>\n",
              "      <td>N</td>\n",
              "      <td>0</td>\n",
              "      <td>N</td>\n",
              "      <td>N</td>\n",
              "      <td>N</td>\n",
              "      <td>VLR_LR</td>\n",
              "      <td>&gt;-2.5</td>\n",
              "      <td>VLR_LR</td>\n",
              "      <td>&lt;=-2.5</td>\n",
              "      <td>No change</td>\n",
              "      <td>Unknown</td>\n",
              "      <td>Adherent</td>\n",
              "      <td>N</td>\n",
              "      <td>Y</td>\n",
              "      <td>N</td>\n",
              "      <td>Y</td>\n",
              "      <td>Y</td>\n",
              "      <td>N</td>\n",
              "      <td>N</td>\n",
              "      <td>Y</td>\n",
              "      <td>N</td>\n",
              "      <td>Y</td>\n",
              "      <td>Y</td>\n",
              "      <td>N</td>\n",
              "      <td>N</td>\n",
              "      <td>N</td>\n",
              "      <td>N</td>\n",
              "      <td>N</td>\n",
              "      <td>N</td>\n",
              "      <td>N</td>\n",
              "      <td>N</td>\n",
              "      <td>N</td>\n",
              "      <td>N</td>\n",
              "      <td>N</td>\n",
              "      <td>N</td>\n",
              "      <td>N</td>\n",
              "      <td>N</td>\n",
              "      <td>N</td>\n",
              "      <td>N</td>\n",
              "      <td>N</td>\n",
              "      <td>N</td>\n",
              "      <td>N</td>\n",
              "      <td>N</td>\n",
              "      <td>N</td>\n",
              "      <td>N</td>\n",
              "      <td>N</td>\n",
              "      <td>N</td>\n",
              "      <td>N</td>\n",
              "      <td>N</td>\n",
              "      <td>N</td>\n",
              "      <td>N</td>\n",
              "      <td>N</td>\n",
              "      <td>N</td>\n",
              "      <td>N</td>\n",
              "      <td>N</td>\n",
              "      <td>N</td>\n",
              "      <td>N</td>\n",
              "      <td>0</td>\n",
              "    </tr>\n",
              "    <tr>\n",
              "      <th>1</th>\n",
              "      <td>P2</td>\n",
              "      <td>Non-Persistent</td>\n",
              "      <td>Male</td>\n",
              "      <td>Asian</td>\n",
              "      <td>Not Hispanic</td>\n",
              "      <td>West</td>\n",
              "      <td>55-65</td>\n",
              "      <td>GENERAL PRACTITIONER</td>\n",
              "      <td>Others</td>\n",
              "      <td>OB/GYN/Others/PCP/Unknown</td>\n",
              "      <td>N</td>\n",
              "      <td>N</td>\n",
              "      <td>0</td>\n",
              "      <td>N</td>\n",
              "      <td>N</td>\n",
              "      <td>N</td>\n",
              "      <td>VLR_LR</td>\n",
              "      <td>&gt;-2.5</td>\n",
              "      <td>Unknown</td>\n",
              "      <td>Unknown</td>\n",
              "      <td>Unknown</td>\n",
              "      <td>Unknown</td>\n",
              "      <td>Adherent</td>\n",
              "      <td>N</td>\n",
              "      <td>Y</td>\n",
              "      <td>N</td>\n",
              "      <td>N</td>\n",
              "      <td>Y</td>\n",
              "      <td>N</td>\n",
              "      <td>N</td>\n",
              "      <td>N</td>\n",
              "      <td>N</td>\n",
              "      <td>N</td>\n",
              "      <td>N</td>\n",
              "      <td>N</td>\n",
              "      <td>N</td>\n",
              "      <td>N</td>\n",
              "      <td>N</td>\n",
              "      <td>N</td>\n",
              "      <td>N</td>\n",
              "      <td>N</td>\n",
              "      <td>N</td>\n",
              "      <td>N</td>\n",
              "      <td>N</td>\n",
              "      <td>N</td>\n",
              "      <td>N</td>\n",
              "      <td>N</td>\n",
              "      <td>N</td>\n",
              "      <td>N</td>\n",
              "      <td>N</td>\n",
              "      <td>N</td>\n",
              "      <td>N</td>\n",
              "      <td>N</td>\n",
              "      <td>N</td>\n",
              "      <td>N</td>\n",
              "      <td>N</td>\n",
              "      <td>N</td>\n",
              "      <td>N</td>\n",
              "      <td>N</td>\n",
              "      <td>N</td>\n",
              "      <td>N</td>\n",
              "      <td>N</td>\n",
              "      <td>N</td>\n",
              "      <td>N</td>\n",
              "      <td>N</td>\n",
              "      <td>N</td>\n",
              "      <td>N</td>\n",
              "      <td>N</td>\n",
              "      <td>0</td>\n",
              "    </tr>\n",
              "    <tr>\n",
              "      <th>2</th>\n",
              "      <td>P3</td>\n",
              "      <td>Non-Persistent</td>\n",
              "      <td>Female</td>\n",
              "      <td>Other/Unknown</td>\n",
              "      <td>Hispanic</td>\n",
              "      <td>Midwest</td>\n",
              "      <td>65-75</td>\n",
              "      <td>GENERAL PRACTITIONER</td>\n",
              "      <td>Others</td>\n",
              "      <td>OB/GYN/Others/PCP/Unknown</td>\n",
              "      <td>N</td>\n",
              "      <td>N</td>\n",
              "      <td>0</td>\n",
              "      <td>N</td>\n",
              "      <td>N</td>\n",
              "      <td>N</td>\n",
              "      <td>HR_VHR</td>\n",
              "      <td>&lt;=-2.5</td>\n",
              "      <td>HR_VHR</td>\n",
              "      <td>&lt;=-2.5</td>\n",
              "      <td>No change</td>\n",
              "      <td>No change</td>\n",
              "      <td>Adherent</td>\n",
              "      <td>N</td>\n",
              "      <td>Y</td>\n",
              "      <td>Y</td>\n",
              "      <td>N</td>\n",
              "      <td>Y</td>\n",
              "      <td>N</td>\n",
              "      <td>N</td>\n",
              "      <td>N</td>\n",
              "      <td>N</td>\n",
              "      <td>N</td>\n",
              "      <td>N</td>\n",
              "      <td>N</td>\n",
              "      <td>N</td>\n",
              "      <td>N</td>\n",
              "      <td>N</td>\n",
              "      <td>N</td>\n",
              "      <td>Y</td>\n",
              "      <td>N</td>\n",
              "      <td>N</td>\n",
              "      <td>N</td>\n",
              "      <td>N</td>\n",
              "      <td>N</td>\n",
              "      <td>N</td>\n",
              "      <td>N</td>\n",
              "      <td>N</td>\n",
              "      <td>N</td>\n",
              "      <td>N</td>\n",
              "      <td>N</td>\n",
              "      <td>N</td>\n",
              "      <td>N</td>\n",
              "      <td>N</td>\n",
              "      <td>N</td>\n",
              "      <td>Y</td>\n",
              "      <td>N</td>\n",
              "      <td>N</td>\n",
              "      <td>N</td>\n",
              "      <td>N</td>\n",
              "      <td>Y</td>\n",
              "      <td>N</td>\n",
              "      <td>N</td>\n",
              "      <td>N</td>\n",
              "      <td>N</td>\n",
              "      <td>N</td>\n",
              "      <td>N</td>\n",
              "      <td>N</td>\n",
              "      <td>2</td>\n",
              "    </tr>\n",
              "    <tr>\n",
              "      <th>3</th>\n",
              "      <td>P4</td>\n",
              "      <td>Non-Persistent</td>\n",
              "      <td>Female</td>\n",
              "      <td>Caucasian</td>\n",
              "      <td>Not Hispanic</td>\n",
              "      <td>Midwest</td>\n",
              "      <td>&gt;75</td>\n",
              "      <td>GENERAL PRACTITIONER</td>\n",
              "      <td>Others</td>\n",
              "      <td>OB/GYN/Others/PCP/Unknown</td>\n",
              "      <td>N</td>\n",
              "      <td>Y</td>\n",
              "      <td>0</td>\n",
              "      <td>N</td>\n",
              "      <td>N</td>\n",
              "      <td>N</td>\n",
              "      <td>HR_VHR</td>\n",
              "      <td>&gt;-2.5</td>\n",
              "      <td>HR_VHR</td>\n",
              "      <td>&lt;=-2.5</td>\n",
              "      <td>No change</td>\n",
              "      <td>No change</td>\n",
              "      <td>Adherent</td>\n",
              "      <td>N</td>\n",
              "      <td>Y</td>\n",
              "      <td>N</td>\n",
              "      <td>Y</td>\n",
              "      <td>Y</td>\n",
              "      <td>N</td>\n",
              "      <td>Y</td>\n",
              "      <td>N</td>\n",
              "      <td>N</td>\n",
              "      <td>Y</td>\n",
              "      <td>N</td>\n",
              "      <td>N</td>\n",
              "      <td>Y</td>\n",
              "      <td>N</td>\n",
              "      <td>N</td>\n",
              "      <td>Y</td>\n",
              "      <td>N</td>\n",
              "      <td>Y</td>\n",
              "      <td>Y</td>\n",
              "      <td>N</td>\n",
              "      <td>N</td>\n",
              "      <td>N</td>\n",
              "      <td>N</td>\n",
              "      <td>N</td>\n",
              "      <td>N</td>\n",
              "      <td>Y</td>\n",
              "      <td>N</td>\n",
              "      <td>N</td>\n",
              "      <td>N</td>\n",
              "      <td>N</td>\n",
              "      <td>N</td>\n",
              "      <td>N</td>\n",
              "      <td>N</td>\n",
              "      <td>Y</td>\n",
              "      <td>N</td>\n",
              "      <td>N</td>\n",
              "      <td>N</td>\n",
              "      <td>N</td>\n",
              "      <td>N</td>\n",
              "      <td>N</td>\n",
              "      <td>N</td>\n",
              "      <td>N</td>\n",
              "      <td>N</td>\n",
              "      <td>N</td>\n",
              "      <td>N</td>\n",
              "      <td>1</td>\n",
              "    </tr>\n",
              "    <tr>\n",
              "      <th>4</th>\n",
              "      <td>P5</td>\n",
              "      <td>Non-Persistent</td>\n",
              "      <td>Female</td>\n",
              "      <td>Caucasian</td>\n",
              "      <td>Not Hispanic</td>\n",
              "      <td>Midwest</td>\n",
              "      <td>&gt;75</td>\n",
              "      <td>GENERAL PRACTITIONER</td>\n",
              "      <td>Others</td>\n",
              "      <td>OB/GYN/Others/PCP/Unknown</td>\n",
              "      <td>Y</td>\n",
              "      <td>Y</td>\n",
              "      <td>0</td>\n",
              "      <td>N</td>\n",
              "      <td>N</td>\n",
              "      <td>N</td>\n",
              "      <td>HR_VHR</td>\n",
              "      <td>&lt;=-2.5</td>\n",
              "      <td>Unknown</td>\n",
              "      <td>Unknown</td>\n",
              "      <td>Unknown</td>\n",
              "      <td>Unknown</td>\n",
              "      <td>Adherent</td>\n",
              "      <td>N</td>\n",
              "      <td>Y</td>\n",
              "      <td>Y</td>\n",
              "      <td>Y</td>\n",
              "      <td>Y</td>\n",
              "      <td>N</td>\n",
              "      <td>N</td>\n",
              "      <td>N</td>\n",
              "      <td>N</td>\n",
              "      <td>Y</td>\n",
              "      <td>Y</td>\n",
              "      <td>N</td>\n",
              "      <td>N</td>\n",
              "      <td>N</td>\n",
              "      <td>N</td>\n",
              "      <td>N</td>\n",
              "      <td>N</td>\n",
              "      <td>Y</td>\n",
              "      <td>Y</td>\n",
              "      <td>Y</td>\n",
              "      <td>N</td>\n",
              "      <td>N</td>\n",
              "      <td>N</td>\n",
              "      <td>N</td>\n",
              "      <td>N</td>\n",
              "      <td>N</td>\n",
              "      <td>N</td>\n",
              "      <td>N</td>\n",
              "      <td>N</td>\n",
              "      <td>N</td>\n",
              "      <td>N</td>\n",
              "      <td>N</td>\n",
              "      <td>N</td>\n",
              "      <td>Y</td>\n",
              "      <td>N</td>\n",
              "      <td>N</td>\n",
              "      <td>N</td>\n",
              "      <td>N</td>\n",
              "      <td>N</td>\n",
              "      <td>N</td>\n",
              "      <td>N</td>\n",
              "      <td>N</td>\n",
              "      <td>N</td>\n",
              "      <td>N</td>\n",
              "      <td>N</td>\n",
              "      <td>1</td>\n",
              "    </tr>\n",
              "  </tbody>\n",
              "</table>\n",
              "</div>"
            ],
            "text/plain": [
              "  Ptid Persistency_Flag  Gender           Race     Ethnicity   Region  \\\n",
              "0   P1       Persistent    Male      Caucasian  Not Hispanic     West   \n",
              "1   P2   Non-Persistent    Male          Asian  Not Hispanic     West   \n",
              "2   P3   Non-Persistent  Female  Other/Unknown      Hispanic  Midwest   \n",
              "3   P4   Non-Persistent  Female      Caucasian  Not Hispanic  Midwest   \n",
              "4   P5   Non-Persistent  Female      Caucasian  Not Hispanic  Midwest   \n",
              "\n",
              "  Age_Bucket        Ntm_Speciality Ntm_Specialist_Flag  \\\n",
              "0        >75  GENERAL PRACTITIONER              Others   \n",
              "1      55-65  GENERAL PRACTITIONER              Others   \n",
              "2      65-75  GENERAL PRACTITIONER              Others   \n",
              "3        >75  GENERAL PRACTITIONER              Others   \n",
              "4        >75  GENERAL PRACTITIONER              Others   \n",
              "\n",
              "       Ntm_Speciality_Bucket Gluco_Record_Prior_Ntm Gluco_Record_During_Rx  \\\n",
              "0  OB/GYN/Others/PCP/Unknown                      N                      N   \n",
              "1  OB/GYN/Others/PCP/Unknown                      N                      N   \n",
              "2  OB/GYN/Others/PCP/Unknown                      N                      N   \n",
              "3  OB/GYN/Others/PCP/Unknown                      N                      Y   \n",
              "4  OB/GYN/Others/PCP/Unknown                      Y                      Y   \n",
              "\n",
              "   Dexa_Freq_During_Rx Dexa_During_Rx Frag_Frac_Prior_Ntm Frag_Frac_During_Rx  \\\n",
              "0                    0              N                   N                   N   \n",
              "1                    0              N                   N                   N   \n",
              "2                    0              N                   N                   N   \n",
              "3                    0              N                   N                   N   \n",
              "4                    0              N                   N                   N   \n",
              "\n",
              "  Risk_Segment_Prior_Ntm Tscore_Bucket_Prior_Ntm Risk_Segment_During_Rx  \\\n",
              "0                 VLR_LR                   >-2.5                 VLR_LR   \n",
              "1                 VLR_LR                   >-2.5                Unknown   \n",
              "2                 HR_VHR                  <=-2.5                 HR_VHR   \n",
              "3                 HR_VHR                   >-2.5                 HR_VHR   \n",
              "4                 HR_VHR                  <=-2.5                Unknown   \n",
              "\n",
              "  Tscore_Bucket_During_Rx Change_T_Score Change_Risk_Segment Adherent_Flag  \\\n",
              "0                  <=-2.5      No change             Unknown      Adherent   \n",
              "1                 Unknown        Unknown             Unknown      Adherent   \n",
              "2                  <=-2.5      No change           No change      Adherent   \n",
              "3                  <=-2.5      No change           No change      Adherent   \n",
              "4                 Unknown        Unknown             Unknown      Adherent   \n",
              "\n",
              "  Idn_Indicator Injectable_Experience_During_Rx  \\\n",
              "0             N                               Y   \n",
              "1             N                               Y   \n",
              "2             N                               Y   \n",
              "3             N                               Y   \n",
              "4             N                               Y   \n",
              "\n",
              "  Comorb_Encounter_For_Screening_For_Malignant_Neoplasms  \\\n",
              "0                                                  N       \n",
              "1                                                  N       \n",
              "2                                                  Y       \n",
              "3                                                  N       \n",
              "4                                                  Y       \n",
              "\n",
              "  Comorb_Encounter_For_Immunization  \\\n",
              "0                                 Y   \n",
              "1                                 N   \n",
              "2                                 N   \n",
              "3                                 Y   \n",
              "4                                 Y   \n",
              "\n",
              "  Comorb_Encntr_For_General_Exam_W_O_Complaint,_Susp_Or_Reprtd_Dx  \\\n",
              "0                                                  Y                \n",
              "1                                                  Y                \n",
              "2                                                  Y                \n",
              "3                                                  Y                \n",
              "4                                                  Y                \n",
              "\n",
              "  Comorb_Vitamin_D_Deficiency  \\\n",
              "0                           N   \n",
              "1                           N   \n",
              "2                           N   \n",
              "3                           N   \n",
              "4                           N   \n",
              "\n",
              "  Comorb_Other_Joint_Disorder_Not_Elsewhere_Classified  \\\n",
              "0                                                  N     \n",
              "1                                                  N     \n",
              "2                                                  N     \n",
              "3                                                  Y     \n",
              "4                                                  N     \n",
              "\n",
              "  Comorb_Encntr_For_Oth_Sp_Exam_W_O_Complaint_Suspected_Or_Reprtd_Dx  \\\n",
              "0                                                  Y                   \n",
              "1                                                  N                   \n",
              "2                                                  N                   \n",
              "3                                                  N                   \n",
              "4                                                  N                   \n",
              "\n",
              "  Comorb_Long_Term_Current_Drug_Therapy Comorb_Dorsalgia  \\\n",
              "0                                     N                Y   \n",
              "1                                     N                N   \n",
              "2                                     N                N   \n",
              "3                                     N                Y   \n",
              "4                                     N                Y   \n",
              "\n",
              "  Comorb_Personal_History_Of_Other_Diseases_And_Conditions  \\\n",
              "0                                                  Y         \n",
              "1                                                  N         \n",
              "2                                                  N         \n",
              "3                                                  N         \n",
              "4                                                  Y         \n",
              "\n",
              "  Comorb_Other_Disorders_Of_Bone_Density_And_Structure  \\\n",
              "0                                                  N     \n",
              "1                                                  N     \n",
              "2                                                  N     \n",
              "3                                                  N     \n",
              "4                                                  N     \n",
              "\n",
              "  Comorb_Disorders_of_lipoprotein_metabolism_and_other_lipidemias  \\\n",
              "0                                                  N                \n",
              "1                                                  N                \n",
              "2                                                  N                \n",
              "3                                                  Y                \n",
              "4                                                  N                \n",
              "\n",
              "  Comorb_Osteoporosis_without_current_pathological_fracture  \\\n",
              "0                                                  N          \n",
              "1                                                  N          \n",
              "2                                                  N          \n",
              "3                                                  N          \n",
              "4                                                  N          \n",
              "\n",
              "  Comorb_Personal_history_of_malignant_neoplasm  \\\n",
              "0                                             N   \n",
              "1                                             N   \n",
              "2                                             N   \n",
              "3                                             N   \n",
              "4                                             N   \n",
              "\n",
              "  Comorb_Gastro_esophageal_reflux_disease  \\\n",
              "0                                       N   \n",
              "1                                       N   \n",
              "2                                       N   \n",
              "3                                       Y   \n",
              "4                                       N   \n",
              "\n",
              "  Concom_Cholesterol_And_Triglyceride_Regulating_Preparations  \\\n",
              "0                                                  N            \n",
              "1                                                  N            \n",
              "2                                                  Y            \n",
              "3                                                  N            \n",
              "4                                                  N            \n",
              "\n",
              "  Concom_Narcotics Concom_Systemic_Corticosteroids_Plain  \\\n",
              "0                N                                     N   \n",
              "1                N                                     N   \n",
              "2                N                                     N   \n",
              "3                Y                                     Y   \n",
              "4                Y                                     Y   \n",
              "\n",
              "  Concom_Anti_Depressants_And_Mood_Stabilisers Concom_Fluoroquinolones  \\\n",
              "0                                            N                       N   \n",
              "1                                            N                       N   \n",
              "2                                            N                       N   \n",
              "3                                            N                       N   \n",
              "4                                            Y                       N   \n",
              "\n",
              "  Concom_Cephalosporins Concom_Macrolides_And_Similar_Types  \\\n",
              "0                     N                                   N   \n",
              "1                     N                                   N   \n",
              "2                     N                                   N   \n",
              "3                     N                                   N   \n",
              "4                     N                                   N   \n",
              "\n",
              "  Concom_Broad_Spectrum_Penicillins Concom_Anaesthetics_General  \\\n",
              "0                                 N                           N   \n",
              "1                                 N                           N   \n",
              "2                                 N                           N   \n",
              "3                                 N                           N   \n",
              "4                                 N                           N   \n",
              "\n",
              "  Concom_Viral_Vaccines Risk_Type_1_Insulin_Dependent_Diabetes  \\\n",
              "0                     N                                      N   \n",
              "1                     N                                      N   \n",
              "2                     N                                      N   \n",
              "3                     Y                                      N   \n",
              "4                     N                                      N   \n",
              "\n",
              "  Risk_Osteogenesis_Imperfecta Risk_Rheumatoid_Arthritis  \\\n",
              "0                            N                         N   \n",
              "1                            N                         N   \n",
              "2                            N                         N   \n",
              "3                            N                         N   \n",
              "4                            N                         N   \n",
              "\n",
              "  Risk_Untreated_Chronic_Hyperthyroidism Risk_Untreated_Chronic_Hypogonadism  \\\n",
              "0                                      N                                   N   \n",
              "1                                      N                                   N   \n",
              "2                                      N                                   N   \n",
              "3                                      N                                   N   \n",
              "4                                      N                                   N   \n",
              "\n",
              "  Risk_Untreated_Early_Menopause Risk_Patient_Parent_Fractured_Their_Hip  \\\n",
              "0                              N                                       N   \n",
              "1                              N                                       N   \n",
              "2                              N                                       Y   \n",
              "3                              N                                       N   \n",
              "4                              N                                       N   \n",
              "\n",
              "  Risk_Smoking_Tobacco Risk_Chronic_Malnutrition_Or_Malabsorption  \\\n",
              "0                    N                                          N   \n",
              "1                    N                                          N   \n",
              "2                    N                                          N   \n",
              "3                    Y                                          N   \n",
              "4                    Y                                          N   \n",
              "\n",
              "  Risk_Chronic_Liver_Disease Risk_Family_History_Of_Osteoporosis  \\\n",
              "0                          N                                   N   \n",
              "1                          N                                   N   \n",
              "2                          N                                   N   \n",
              "3                          N                                   N   \n",
              "4                          N                                   N   \n",
              "\n",
              "  Risk_Low_Calcium_Intake Risk_Vitamin_D_Insufficiency  \\\n",
              "0                       N                            N   \n",
              "1                       N                            N   \n",
              "2                       Y                            N   \n",
              "3                       N                            N   \n",
              "4                       N                            N   \n",
              "\n",
              "  Risk_Poor_Health_Frailty Risk_Excessive_Thinness  \\\n",
              "0                        N                       N   \n",
              "1                        N                       N   \n",
              "2                        N                       N   \n",
              "3                        N                       N   \n",
              "4                        N                       N   \n",
              "\n",
              "  Risk_Hysterectomy_Oophorectomy Risk_Estrogen_Deficiency Risk_Immobilization  \\\n",
              "0                              N                        N                   N   \n",
              "1                              N                        N                   N   \n",
              "2                              N                        N                   N   \n",
              "3                              N                        N                   N   \n",
              "4                              N                        N                   N   \n",
              "\n",
              "  Risk_Recurring_Falls  Count_Of_Risks  \n",
              "0                    N               0  \n",
              "1                    N               0  \n",
              "2                    N               2  \n",
              "3                    N               1  \n",
              "4                    N               1  "
            ]
          },
          "metadata": {},
          "execution_count": 4
        }
      ]
    },
    {
      "cell_type": "code",
      "metadata": {
        "colab": {
          "base_uri": "https://localhost:8080/",
          "height": 206
        },
        "id": "2fOkiV0KcMdB",
        "outputId": "0aedc38b-86ea-4317-e59c-e28b7a5067b7"
      },
      "source": [
        "tmp = pd.get_dummies(data['Persistency_Flag'], drop_first=True)\n",
        "\n",
        "tmp.head()"
      ],
      "execution_count": 5,
      "outputs": [
        {
          "output_type": "execute_result",
          "data": {
            "text/html": [
              "<div>\n",
              "<style scoped>\n",
              "    .dataframe tbody tr th:only-of-type {\n",
              "        vertical-align: middle;\n",
              "    }\n",
              "\n",
              "    .dataframe tbody tr th {\n",
              "        vertical-align: top;\n",
              "    }\n",
              "\n",
              "    .dataframe thead th {\n",
              "        text-align: right;\n",
              "    }\n",
              "</style>\n",
              "<table border=\"1\" class=\"dataframe\">\n",
              "  <thead>\n",
              "    <tr style=\"text-align: right;\">\n",
              "      <th></th>\n",
              "      <th>Persistent</th>\n",
              "    </tr>\n",
              "  </thead>\n",
              "  <tbody>\n",
              "    <tr>\n",
              "      <th>0</th>\n",
              "      <td>1</td>\n",
              "    </tr>\n",
              "    <tr>\n",
              "      <th>1</th>\n",
              "      <td>0</td>\n",
              "    </tr>\n",
              "    <tr>\n",
              "      <th>2</th>\n",
              "      <td>0</td>\n",
              "    </tr>\n",
              "    <tr>\n",
              "      <th>3</th>\n",
              "      <td>0</td>\n",
              "    </tr>\n",
              "    <tr>\n",
              "      <th>4</th>\n",
              "      <td>0</td>\n",
              "    </tr>\n",
              "  </tbody>\n",
              "</table>\n",
              "</div>"
            ],
            "text/plain": [
              "   Persistent\n",
              "0           1\n",
              "1           0\n",
              "2           0\n",
              "3           0\n",
              "4           0"
            ]
          },
          "metadata": {},
          "execution_count": 5
        }
      ]
    },
    {
      "cell_type": "code",
      "metadata": {
        "id": "QY0zj3s-cbXY"
      },
      "source": [
        "data['Persistency_Flag']=tmp"
      ],
      "execution_count": 6,
      "outputs": []
    },
    {
      "cell_type": "code",
      "metadata": {
        "colab": {
          "base_uri": "https://localhost:8080/",
          "height": 215
        },
        "id": "_8ZuK14Vcfuu",
        "outputId": "8baa000c-100d-4ace-9034-a32c90a4d92b"
      },
      "source": [
        "data.head(3)"
      ],
      "execution_count": 7,
      "outputs": [
        {
          "output_type": "execute_result",
          "data": {
            "text/html": [
              "<div>\n",
              "<style scoped>\n",
              "    .dataframe tbody tr th:only-of-type {\n",
              "        vertical-align: middle;\n",
              "    }\n",
              "\n",
              "    .dataframe tbody tr th {\n",
              "        vertical-align: top;\n",
              "    }\n",
              "\n",
              "    .dataframe thead th {\n",
              "        text-align: right;\n",
              "    }\n",
              "</style>\n",
              "<table border=\"1\" class=\"dataframe\">\n",
              "  <thead>\n",
              "    <tr style=\"text-align: right;\">\n",
              "      <th></th>\n",
              "      <th>Ptid</th>\n",
              "      <th>Persistency_Flag</th>\n",
              "      <th>Gender</th>\n",
              "      <th>Race</th>\n",
              "      <th>Ethnicity</th>\n",
              "      <th>Region</th>\n",
              "      <th>Age_Bucket</th>\n",
              "      <th>Ntm_Speciality</th>\n",
              "      <th>Ntm_Specialist_Flag</th>\n",
              "      <th>Ntm_Speciality_Bucket</th>\n",
              "      <th>Gluco_Record_Prior_Ntm</th>\n",
              "      <th>Gluco_Record_During_Rx</th>\n",
              "      <th>Dexa_Freq_During_Rx</th>\n",
              "      <th>Dexa_During_Rx</th>\n",
              "      <th>Frag_Frac_Prior_Ntm</th>\n",
              "      <th>Frag_Frac_During_Rx</th>\n",
              "      <th>Risk_Segment_Prior_Ntm</th>\n",
              "      <th>Tscore_Bucket_Prior_Ntm</th>\n",
              "      <th>Risk_Segment_During_Rx</th>\n",
              "      <th>Tscore_Bucket_During_Rx</th>\n",
              "      <th>Change_T_Score</th>\n",
              "      <th>Change_Risk_Segment</th>\n",
              "      <th>Adherent_Flag</th>\n",
              "      <th>Idn_Indicator</th>\n",
              "      <th>Injectable_Experience_During_Rx</th>\n",
              "      <th>Comorb_Encounter_For_Screening_For_Malignant_Neoplasms</th>\n",
              "      <th>Comorb_Encounter_For_Immunization</th>\n",
              "      <th>Comorb_Encntr_For_General_Exam_W_O_Complaint,_Susp_Or_Reprtd_Dx</th>\n",
              "      <th>Comorb_Vitamin_D_Deficiency</th>\n",
              "      <th>Comorb_Other_Joint_Disorder_Not_Elsewhere_Classified</th>\n",
              "      <th>Comorb_Encntr_For_Oth_Sp_Exam_W_O_Complaint_Suspected_Or_Reprtd_Dx</th>\n",
              "      <th>Comorb_Long_Term_Current_Drug_Therapy</th>\n",
              "      <th>Comorb_Dorsalgia</th>\n",
              "      <th>Comorb_Personal_History_Of_Other_Diseases_And_Conditions</th>\n",
              "      <th>Comorb_Other_Disorders_Of_Bone_Density_And_Structure</th>\n",
              "      <th>Comorb_Disorders_of_lipoprotein_metabolism_and_other_lipidemias</th>\n",
              "      <th>Comorb_Osteoporosis_without_current_pathological_fracture</th>\n",
              "      <th>Comorb_Personal_history_of_malignant_neoplasm</th>\n",
              "      <th>Comorb_Gastro_esophageal_reflux_disease</th>\n",
              "      <th>Concom_Cholesterol_And_Triglyceride_Regulating_Preparations</th>\n",
              "      <th>Concom_Narcotics</th>\n",
              "      <th>Concom_Systemic_Corticosteroids_Plain</th>\n",
              "      <th>Concom_Anti_Depressants_And_Mood_Stabilisers</th>\n",
              "      <th>Concom_Fluoroquinolones</th>\n",
              "      <th>Concom_Cephalosporins</th>\n",
              "      <th>Concom_Macrolides_And_Similar_Types</th>\n",
              "      <th>Concom_Broad_Spectrum_Penicillins</th>\n",
              "      <th>Concom_Anaesthetics_General</th>\n",
              "      <th>Concom_Viral_Vaccines</th>\n",
              "      <th>Risk_Type_1_Insulin_Dependent_Diabetes</th>\n",
              "      <th>Risk_Osteogenesis_Imperfecta</th>\n",
              "      <th>Risk_Rheumatoid_Arthritis</th>\n",
              "      <th>Risk_Untreated_Chronic_Hyperthyroidism</th>\n",
              "      <th>Risk_Untreated_Chronic_Hypogonadism</th>\n",
              "      <th>Risk_Untreated_Early_Menopause</th>\n",
              "      <th>Risk_Patient_Parent_Fractured_Their_Hip</th>\n",
              "      <th>Risk_Smoking_Tobacco</th>\n",
              "      <th>Risk_Chronic_Malnutrition_Or_Malabsorption</th>\n",
              "      <th>Risk_Chronic_Liver_Disease</th>\n",
              "      <th>Risk_Family_History_Of_Osteoporosis</th>\n",
              "      <th>Risk_Low_Calcium_Intake</th>\n",
              "      <th>Risk_Vitamin_D_Insufficiency</th>\n",
              "      <th>Risk_Poor_Health_Frailty</th>\n",
              "      <th>Risk_Excessive_Thinness</th>\n",
              "      <th>Risk_Hysterectomy_Oophorectomy</th>\n",
              "      <th>Risk_Estrogen_Deficiency</th>\n",
              "      <th>Risk_Immobilization</th>\n",
              "      <th>Risk_Recurring_Falls</th>\n",
              "      <th>Count_Of_Risks</th>\n",
              "    </tr>\n",
              "  </thead>\n",
              "  <tbody>\n",
              "    <tr>\n",
              "      <th>0</th>\n",
              "      <td>P1</td>\n",
              "      <td>1</td>\n",
              "      <td>Male</td>\n",
              "      <td>Caucasian</td>\n",
              "      <td>Not Hispanic</td>\n",
              "      <td>West</td>\n",
              "      <td>&gt;75</td>\n",
              "      <td>GENERAL PRACTITIONER</td>\n",
              "      <td>Others</td>\n",
              "      <td>OB/GYN/Others/PCP/Unknown</td>\n",
              "      <td>N</td>\n",
              "      <td>N</td>\n",
              "      <td>0</td>\n",
              "      <td>N</td>\n",
              "      <td>N</td>\n",
              "      <td>N</td>\n",
              "      <td>VLR_LR</td>\n",
              "      <td>&gt;-2.5</td>\n",
              "      <td>VLR_LR</td>\n",
              "      <td>&lt;=-2.5</td>\n",
              "      <td>No change</td>\n",
              "      <td>Unknown</td>\n",
              "      <td>Adherent</td>\n",
              "      <td>N</td>\n",
              "      <td>Y</td>\n",
              "      <td>N</td>\n",
              "      <td>Y</td>\n",
              "      <td>Y</td>\n",
              "      <td>N</td>\n",
              "      <td>N</td>\n",
              "      <td>Y</td>\n",
              "      <td>N</td>\n",
              "      <td>Y</td>\n",
              "      <td>Y</td>\n",
              "      <td>N</td>\n",
              "      <td>N</td>\n",
              "      <td>N</td>\n",
              "      <td>N</td>\n",
              "      <td>N</td>\n",
              "      <td>N</td>\n",
              "      <td>N</td>\n",
              "      <td>N</td>\n",
              "      <td>N</td>\n",
              "      <td>N</td>\n",
              "      <td>N</td>\n",
              "      <td>N</td>\n",
              "      <td>N</td>\n",
              "      <td>N</td>\n",
              "      <td>N</td>\n",
              "      <td>N</td>\n",
              "      <td>N</td>\n",
              "      <td>N</td>\n",
              "      <td>N</td>\n",
              "      <td>N</td>\n",
              "      <td>N</td>\n",
              "      <td>N</td>\n",
              "      <td>N</td>\n",
              "      <td>N</td>\n",
              "      <td>N</td>\n",
              "      <td>N</td>\n",
              "      <td>N</td>\n",
              "      <td>N</td>\n",
              "      <td>N</td>\n",
              "      <td>N</td>\n",
              "      <td>N</td>\n",
              "      <td>N</td>\n",
              "      <td>N</td>\n",
              "      <td>N</td>\n",
              "      <td>0</td>\n",
              "    </tr>\n",
              "    <tr>\n",
              "      <th>1</th>\n",
              "      <td>P2</td>\n",
              "      <td>0</td>\n",
              "      <td>Male</td>\n",
              "      <td>Asian</td>\n",
              "      <td>Not Hispanic</td>\n",
              "      <td>West</td>\n",
              "      <td>55-65</td>\n",
              "      <td>GENERAL PRACTITIONER</td>\n",
              "      <td>Others</td>\n",
              "      <td>OB/GYN/Others/PCP/Unknown</td>\n",
              "      <td>N</td>\n",
              "      <td>N</td>\n",
              "      <td>0</td>\n",
              "      <td>N</td>\n",
              "      <td>N</td>\n",
              "      <td>N</td>\n",
              "      <td>VLR_LR</td>\n",
              "      <td>&gt;-2.5</td>\n",
              "      <td>Unknown</td>\n",
              "      <td>Unknown</td>\n",
              "      <td>Unknown</td>\n",
              "      <td>Unknown</td>\n",
              "      <td>Adherent</td>\n",
              "      <td>N</td>\n",
              "      <td>Y</td>\n",
              "      <td>N</td>\n",
              "      <td>N</td>\n",
              "      <td>Y</td>\n",
              "      <td>N</td>\n",
              "      <td>N</td>\n",
              "      <td>N</td>\n",
              "      <td>N</td>\n",
              "      <td>N</td>\n",
              "      <td>N</td>\n",
              "      <td>N</td>\n",
              "      <td>N</td>\n",
              "      <td>N</td>\n",
              "      <td>N</td>\n",
              "      <td>N</td>\n",
              "      <td>N</td>\n",
              "      <td>N</td>\n",
              "      <td>N</td>\n",
              "      <td>N</td>\n",
              "      <td>N</td>\n",
              "      <td>N</td>\n",
              "      <td>N</td>\n",
              "      <td>N</td>\n",
              "      <td>N</td>\n",
              "      <td>N</td>\n",
              "      <td>N</td>\n",
              "      <td>N</td>\n",
              "      <td>N</td>\n",
              "      <td>N</td>\n",
              "      <td>N</td>\n",
              "      <td>N</td>\n",
              "      <td>N</td>\n",
              "      <td>N</td>\n",
              "      <td>N</td>\n",
              "      <td>N</td>\n",
              "      <td>N</td>\n",
              "      <td>N</td>\n",
              "      <td>N</td>\n",
              "      <td>N</td>\n",
              "      <td>N</td>\n",
              "      <td>N</td>\n",
              "      <td>N</td>\n",
              "      <td>N</td>\n",
              "      <td>N</td>\n",
              "      <td>0</td>\n",
              "    </tr>\n",
              "    <tr>\n",
              "      <th>2</th>\n",
              "      <td>P3</td>\n",
              "      <td>0</td>\n",
              "      <td>Female</td>\n",
              "      <td>Other/Unknown</td>\n",
              "      <td>Hispanic</td>\n",
              "      <td>Midwest</td>\n",
              "      <td>65-75</td>\n",
              "      <td>GENERAL PRACTITIONER</td>\n",
              "      <td>Others</td>\n",
              "      <td>OB/GYN/Others/PCP/Unknown</td>\n",
              "      <td>N</td>\n",
              "      <td>N</td>\n",
              "      <td>0</td>\n",
              "      <td>N</td>\n",
              "      <td>N</td>\n",
              "      <td>N</td>\n",
              "      <td>HR_VHR</td>\n",
              "      <td>&lt;=-2.5</td>\n",
              "      <td>HR_VHR</td>\n",
              "      <td>&lt;=-2.5</td>\n",
              "      <td>No change</td>\n",
              "      <td>No change</td>\n",
              "      <td>Adherent</td>\n",
              "      <td>N</td>\n",
              "      <td>Y</td>\n",
              "      <td>Y</td>\n",
              "      <td>N</td>\n",
              "      <td>Y</td>\n",
              "      <td>N</td>\n",
              "      <td>N</td>\n",
              "      <td>N</td>\n",
              "      <td>N</td>\n",
              "      <td>N</td>\n",
              "      <td>N</td>\n",
              "      <td>N</td>\n",
              "      <td>N</td>\n",
              "      <td>N</td>\n",
              "      <td>N</td>\n",
              "      <td>N</td>\n",
              "      <td>Y</td>\n",
              "      <td>N</td>\n",
              "      <td>N</td>\n",
              "      <td>N</td>\n",
              "      <td>N</td>\n",
              "      <td>N</td>\n",
              "      <td>N</td>\n",
              "      <td>N</td>\n",
              "      <td>N</td>\n",
              "      <td>N</td>\n",
              "      <td>N</td>\n",
              "      <td>N</td>\n",
              "      <td>N</td>\n",
              "      <td>N</td>\n",
              "      <td>N</td>\n",
              "      <td>N</td>\n",
              "      <td>Y</td>\n",
              "      <td>N</td>\n",
              "      <td>N</td>\n",
              "      <td>N</td>\n",
              "      <td>N</td>\n",
              "      <td>Y</td>\n",
              "      <td>N</td>\n",
              "      <td>N</td>\n",
              "      <td>N</td>\n",
              "      <td>N</td>\n",
              "      <td>N</td>\n",
              "      <td>N</td>\n",
              "      <td>N</td>\n",
              "      <td>2</td>\n",
              "    </tr>\n",
              "  </tbody>\n",
              "</table>\n",
              "</div>"
            ],
            "text/plain": [
              "  Ptid  Persistency_Flag  Gender           Race     Ethnicity   Region  \\\n",
              "0   P1                 1    Male      Caucasian  Not Hispanic     West   \n",
              "1   P2                 0    Male          Asian  Not Hispanic     West   \n",
              "2   P3                 0  Female  Other/Unknown      Hispanic  Midwest   \n",
              "\n",
              "  Age_Bucket        Ntm_Speciality Ntm_Specialist_Flag  \\\n",
              "0        >75  GENERAL PRACTITIONER              Others   \n",
              "1      55-65  GENERAL PRACTITIONER              Others   \n",
              "2      65-75  GENERAL PRACTITIONER              Others   \n",
              "\n",
              "       Ntm_Speciality_Bucket Gluco_Record_Prior_Ntm Gluco_Record_During_Rx  \\\n",
              "0  OB/GYN/Others/PCP/Unknown                      N                      N   \n",
              "1  OB/GYN/Others/PCP/Unknown                      N                      N   \n",
              "2  OB/GYN/Others/PCP/Unknown                      N                      N   \n",
              "\n",
              "   Dexa_Freq_During_Rx Dexa_During_Rx Frag_Frac_Prior_Ntm Frag_Frac_During_Rx  \\\n",
              "0                    0              N                   N                   N   \n",
              "1                    0              N                   N                   N   \n",
              "2                    0              N                   N                   N   \n",
              "\n",
              "  Risk_Segment_Prior_Ntm Tscore_Bucket_Prior_Ntm Risk_Segment_During_Rx  \\\n",
              "0                 VLR_LR                   >-2.5                 VLR_LR   \n",
              "1                 VLR_LR                   >-2.5                Unknown   \n",
              "2                 HR_VHR                  <=-2.5                 HR_VHR   \n",
              "\n",
              "  Tscore_Bucket_During_Rx Change_T_Score Change_Risk_Segment Adherent_Flag  \\\n",
              "0                  <=-2.5      No change             Unknown      Adherent   \n",
              "1                 Unknown        Unknown             Unknown      Adherent   \n",
              "2                  <=-2.5      No change           No change      Adherent   \n",
              "\n",
              "  Idn_Indicator Injectable_Experience_During_Rx  \\\n",
              "0             N                               Y   \n",
              "1             N                               Y   \n",
              "2             N                               Y   \n",
              "\n",
              "  Comorb_Encounter_For_Screening_For_Malignant_Neoplasms  \\\n",
              "0                                                  N       \n",
              "1                                                  N       \n",
              "2                                                  Y       \n",
              "\n",
              "  Comorb_Encounter_For_Immunization  \\\n",
              "0                                 Y   \n",
              "1                                 N   \n",
              "2                                 N   \n",
              "\n",
              "  Comorb_Encntr_For_General_Exam_W_O_Complaint,_Susp_Or_Reprtd_Dx  \\\n",
              "0                                                  Y                \n",
              "1                                                  Y                \n",
              "2                                                  Y                \n",
              "\n",
              "  Comorb_Vitamin_D_Deficiency  \\\n",
              "0                           N   \n",
              "1                           N   \n",
              "2                           N   \n",
              "\n",
              "  Comorb_Other_Joint_Disorder_Not_Elsewhere_Classified  \\\n",
              "0                                                  N     \n",
              "1                                                  N     \n",
              "2                                                  N     \n",
              "\n",
              "  Comorb_Encntr_For_Oth_Sp_Exam_W_O_Complaint_Suspected_Or_Reprtd_Dx  \\\n",
              "0                                                  Y                   \n",
              "1                                                  N                   \n",
              "2                                                  N                   \n",
              "\n",
              "  Comorb_Long_Term_Current_Drug_Therapy Comorb_Dorsalgia  \\\n",
              "0                                     N                Y   \n",
              "1                                     N                N   \n",
              "2                                     N                N   \n",
              "\n",
              "  Comorb_Personal_History_Of_Other_Diseases_And_Conditions  \\\n",
              "0                                                  Y         \n",
              "1                                                  N         \n",
              "2                                                  N         \n",
              "\n",
              "  Comorb_Other_Disorders_Of_Bone_Density_And_Structure  \\\n",
              "0                                                  N     \n",
              "1                                                  N     \n",
              "2                                                  N     \n",
              "\n",
              "  Comorb_Disorders_of_lipoprotein_metabolism_and_other_lipidemias  \\\n",
              "0                                                  N                \n",
              "1                                                  N                \n",
              "2                                                  N                \n",
              "\n",
              "  Comorb_Osteoporosis_without_current_pathological_fracture  \\\n",
              "0                                                  N          \n",
              "1                                                  N          \n",
              "2                                                  N          \n",
              "\n",
              "  Comorb_Personal_history_of_malignant_neoplasm  \\\n",
              "0                                             N   \n",
              "1                                             N   \n",
              "2                                             N   \n",
              "\n",
              "  Comorb_Gastro_esophageal_reflux_disease  \\\n",
              "0                                       N   \n",
              "1                                       N   \n",
              "2                                       N   \n",
              "\n",
              "  Concom_Cholesterol_And_Triglyceride_Regulating_Preparations  \\\n",
              "0                                                  N            \n",
              "1                                                  N            \n",
              "2                                                  Y            \n",
              "\n",
              "  Concom_Narcotics Concom_Systemic_Corticosteroids_Plain  \\\n",
              "0                N                                     N   \n",
              "1                N                                     N   \n",
              "2                N                                     N   \n",
              "\n",
              "  Concom_Anti_Depressants_And_Mood_Stabilisers Concom_Fluoroquinolones  \\\n",
              "0                                            N                       N   \n",
              "1                                            N                       N   \n",
              "2                                            N                       N   \n",
              "\n",
              "  Concom_Cephalosporins Concom_Macrolides_And_Similar_Types  \\\n",
              "0                     N                                   N   \n",
              "1                     N                                   N   \n",
              "2                     N                                   N   \n",
              "\n",
              "  Concom_Broad_Spectrum_Penicillins Concom_Anaesthetics_General  \\\n",
              "0                                 N                           N   \n",
              "1                                 N                           N   \n",
              "2                                 N                           N   \n",
              "\n",
              "  Concom_Viral_Vaccines Risk_Type_1_Insulin_Dependent_Diabetes  \\\n",
              "0                     N                                      N   \n",
              "1                     N                                      N   \n",
              "2                     N                                      N   \n",
              "\n",
              "  Risk_Osteogenesis_Imperfecta Risk_Rheumatoid_Arthritis  \\\n",
              "0                            N                         N   \n",
              "1                            N                         N   \n",
              "2                            N                         N   \n",
              "\n",
              "  Risk_Untreated_Chronic_Hyperthyroidism Risk_Untreated_Chronic_Hypogonadism  \\\n",
              "0                                      N                                   N   \n",
              "1                                      N                                   N   \n",
              "2                                      N                                   N   \n",
              "\n",
              "  Risk_Untreated_Early_Menopause Risk_Patient_Parent_Fractured_Their_Hip  \\\n",
              "0                              N                                       N   \n",
              "1                              N                                       N   \n",
              "2                              N                                       Y   \n",
              "\n",
              "  Risk_Smoking_Tobacco Risk_Chronic_Malnutrition_Or_Malabsorption  \\\n",
              "0                    N                                          N   \n",
              "1                    N                                          N   \n",
              "2                    N                                          N   \n",
              "\n",
              "  Risk_Chronic_Liver_Disease Risk_Family_History_Of_Osteoporosis  \\\n",
              "0                          N                                   N   \n",
              "1                          N                                   N   \n",
              "2                          N                                   N   \n",
              "\n",
              "  Risk_Low_Calcium_Intake Risk_Vitamin_D_Insufficiency  \\\n",
              "0                       N                            N   \n",
              "1                       N                            N   \n",
              "2                       Y                            N   \n",
              "\n",
              "  Risk_Poor_Health_Frailty Risk_Excessive_Thinness  \\\n",
              "0                        N                       N   \n",
              "1                        N                       N   \n",
              "2                        N                       N   \n",
              "\n",
              "  Risk_Hysterectomy_Oophorectomy Risk_Estrogen_Deficiency Risk_Immobilization  \\\n",
              "0                              N                        N                   N   \n",
              "1                              N                        N                   N   \n",
              "2                              N                        N                   N   \n",
              "\n",
              "  Risk_Recurring_Falls  Count_Of_Risks  \n",
              "0                    N               0  \n",
              "1                    N               0  \n",
              "2                    N               2  "
            ]
          },
          "metadata": {},
          "execution_count": 7
        }
      ]
    },
    {
      "cell_type": "code",
      "metadata": {
        "colab": {
          "base_uri": "https://localhost:8080/",
          "height": 1000
        },
        "id": "x9UHLIWPby-g",
        "outputId": "cdd8311e-0582-43c0-f1ee-bf37e78e13e7"
      },
      "source": [
        "# let's explore the distribution of the numerical variables\n",
        "\n",
        "data.hist(figsize=(20,20))\n",
        "plt.show()"
      ],
      "execution_count": 8,
      "outputs": [
        {
          "output_type": "display_data",
          "data": {
            "image/png": "[encoded data removed]",
            "text/plain": [
              "<Figure size 1440x1440 with 4 Axes>"
            ]
          },
          "metadata": {
            "needs_background": "light"
          }
        }
      ]
    },
    {
      "cell_type": "code",
      "metadata": {
        "colab": {
          "base_uri": "https://localhost:8080/"
        },
        "id": "RCj8zJ9RcjPt",
        "outputId": "6bccaaaf-39eb-4c56-a55f-a71420318964"
      },
      "source": [
        "data.info()"
      ],
      "execution_count": 9,
      "outputs": [
        {
          "output_type": "stream",
          "name": "stdout",
          "text": [
            "<class 'pandas.core.frame.DataFrame'>\n",
            "RangeIndex: 3424 entries, 0 to 3423\n",
            "Data columns (total 69 columns):\n",
            " #   Column                                                              Non-Null Count  Dtype \n",
            "---  ------                                                              --------------  ----- \n",
            " 0   Ptid                                                                3424 non-null   object\n",
            " 1   Persistency_Flag                                                    3424 non-null   uint8 \n",
            " 2   Gender                                                              3424 non-null   object\n",
            " 3   Race                                                                3424 non-null   object\n",
            " 4   Ethnicity                                                           3424 non-null   object\n",
            " 5   Region                                                              3424 non-null   object\n",
            " 6   Age_Bucket                                                          3424 non-null   object\n",
            " 7   Ntm_Speciality                                                      3424 non-null   object\n",
            " 8   Ntm_Specialist_Flag                                                 3424 non-null   object\n",
            " 9   Ntm_Speciality_Bucket                                               3424 non-null   object\n",
            " 10  Gluco_Record_Prior_Ntm                                              3424 non-null   object\n",
            " 11  Gluco_Record_During_Rx                                              3424 non-null   object\n",
            " 12  Dexa_Freq_During_Rx                                                 3424 non-null   int64 \n",
            " 13  Dexa_During_Rx                                                      3424 non-null   object\n",
            " 14  Frag_Frac_Prior_Ntm                                                 3424 non-null   object\n",
            " 15  Frag_Frac_During_Rx                                                 3424 non-null   object\n",
            " 16  Risk_Segment_Prior_Ntm                                              3424 non-null   object\n",
            " 17  Tscore_Bucket_Prior_Ntm                                             3424 non-null   object\n",
            " 18  Risk_Segment_During_Rx                                              3424 non-null   object\n",
            " 19  Tscore_Bucket_During_Rx                                             3424 non-null   object\n",
            " 20  Change_T_Score                                                      3424 non-null   object\n",
            " 21  Change_Risk_Segment                                                 3424 non-null   object\n",
            " 22  Adherent_Flag                                                       3424 non-null   object\n",
            " 23  Idn_Indicator                                                       3424 non-null   object\n",
            " 24  Injectable_Experience_During_Rx                                     3424 non-null   object\n",
            " 25  Comorb_Encounter_For_Screening_For_Malignant_Neoplasms              3424 non-null   object\n",
            " 26  Comorb_Encounter_For_Immunization                                   3424 non-null   object\n",
            " 27  Comorb_Encntr_For_General_Exam_W_O_Complaint,_Susp_Or_Reprtd_Dx     3424 non-null   object\n",
            " 28  Comorb_Vitamin_D_Deficiency                                         3424 non-null   object\n",
            " 29  Comorb_Other_Joint_Disorder_Not_Elsewhere_Classified                3424 non-null   object\n",
            " 30  Comorb_Encntr_For_Oth_Sp_Exam_W_O_Complaint_Suspected_Or_Reprtd_Dx  3424 non-null   object\n",
            " 31  Comorb_Long_Term_Current_Drug_Therapy                               3424 non-null   object\n",
            " 32  Comorb_Dorsalgia                                                    3424 non-null   object\n",
            " 33  Comorb_Personal_History_Of_Other_Diseases_And_Conditions            3424 non-null   object\n",
            " 34  Comorb_Other_Disorders_Of_Bone_Density_And_Structure                3424 non-null   object\n",
            " 35  Comorb_Disorders_of_lipoprotein_metabolism_and_other_lipidemias     3424 non-null   object\n",
            " 36  Comorb_Osteoporosis_without_current_pathological_fracture           3424 non-null   object\n",
            " 37  Comorb_Personal_history_of_malignant_neoplasm                       3424 non-null   object\n",
            " 38  Comorb_Gastro_esophageal_reflux_disease                             3424 non-null   object\n",
            " 39  Concom_Cholesterol_And_Triglyceride_Regulating_Preparations         3424 non-null   object\n",
            " 40  Concom_Narcotics                                                    3424 non-null   object\n",
            " 41  Concom_Systemic_Corticosteroids_Plain                               3424 non-null   object\n",
            " 42  Concom_Anti_Depressants_And_Mood_Stabilisers                        3424 non-null   object\n",
            " 43  Concom_Fluoroquinolones                                             3424 non-null   object\n",
            " 44  Concom_Cephalosporins                                               3424 non-null   object\n",
            " 45  Concom_Macrolides_And_Similar_Types                                 3424 non-null   object\n",
            " 46  Concom_Broad_Spectrum_Penicillins                                   3424 non-null   object\n",
            " 47  Concom_Anaesthetics_General                                         3424 non-null   object\n",
            " 48  Concom_Viral_Vaccines                                               3424 non-null   object\n",
            " 49  Risk_Type_1_Insulin_Dependent_Diabetes                              3424 non-null   object\n",
            " 50  Risk_Osteogenesis_Imperfecta                                        3424 non-null   object\n",
            " 51  Risk_Rheumatoid_Arthritis                                           3424 non-null   object\n",
            " 52  Risk_Untreated_Chronic_Hyperthyroidism                              3424 non-null   object\n",
            " 53  Risk_Untreated_Chronic_Hypogonadism                                 3424 non-null   object\n",
            " 54  Risk_Untreated_Early_Menopause                                      3424 non-null   object\n",
            " 55  Risk_Patient_Parent_Fractured_Their_Hip                             3424 non-null   object\n",
            " 56  Risk_Smoking_Tobacco                                                3424 non-null   object\n",
            " 57  Risk_Chronic_Malnutrition_Or_Malabsorption                          3424 non-null   object\n",
            " 58  Risk_Chronic_Liver_Disease                                          3424 non-null   object\n",
            " 59  Risk_Family_History_Of_Osteoporosis                                 3424 non-null   object\n",
            " 60  Risk_Low_Calcium_Intake                                             3424 non-null   object\n",
            " 61  Risk_Vitamin_D_Insufficiency                                        3424 non-null   object\n",
            " 62  Risk_Poor_Health_Frailty                                            3424 non-null   object\n",
            " 63  Risk_Excessive_Thinness                                             3424 non-null   object\n",
            " 64  Risk_Hysterectomy_Oophorectomy                                      3424 non-null   object\n",
            " 65  Risk_Estrogen_Deficiency                                            3424 non-null   object\n",
            " 66  Risk_Immobilization                                                 3424 non-null   object\n",
            " 67  Risk_Recurring_Falls                                                3424 non-null   object\n",
            " 68  Count_Of_Risks                                                      3424 non-null   int64 \n",
            "dtypes: int64(2), object(66), uint8(1)\n",
            "memory usage: 1.8+ MB\n"
          ]
        }
      ]
    },
    {
      "cell_type": "code",
      "metadata": {
        "colab": {
          "base_uri": "https://localhost:8080/"
        },
        "id": "9lIBVQw2cqRc",
        "outputId": "79bf1210-9c9b-422f-b34d-f9d915235728"
      },
      "source": [
        "# let's inspect the variable values\n",
        "\n",
        "for var in data.columns:\n",
        "    print(var, data[var].unique()[0:20], '\\n')"
      ],
      "execution_count": 10,
      "outputs": [
        {
          "output_type": "stream",
          "name": "stdout",
          "text": [
            "Ptid ['P1' 'P2' 'P3' 'P4' 'P5' 'P6' 'P7' 'P8' 'P9' 'P10' 'P11' 'P12' 'P13'\n",
            " 'P14' 'P15' 'P16' 'P17' 'P18' 'P19' 'P20'] \n",
            "\n",
            "Persistency_Flag [1 0] \n",
            "\n",
            "Gender ['Male' 'Female'] \n",
            "\n",
            "Race ['Caucasian' 'Asian' 'Other/Unknown' 'African American'] \n",
            "\n",
            "Ethnicity ['Not Hispanic' 'Hispanic' 'Unknown'] \n",
            "\n",
            "Region ['West' 'Midwest' 'South' 'Other/Unknown' 'Northeast'] \n",
            "\n",
            "Age_Bucket ['>75' '55-65' '65-75' '<55'] \n",
            "\n",
            "Ntm_Speciality ['GENERAL PRACTITIONER' 'Unknown' 'ENDOCRINOLOGY' 'RHEUMATOLOGY'\n",
            " 'ONCOLOGY' 'PATHOLOGY' 'OBSTETRICS AND GYNECOLOGY'\n",
            " 'PSYCHIATRY AND NEUROLOGY' 'ORTHOPEDIC SURGERY'\n",
            " 'PHYSICAL MEDICINE AND REHABILITATION' 'SURGERY AND SURGICAL SPECIALTIES'\n",
            " 'PEDIATRICS' 'PULMONARY MEDICINE' 'HEMATOLOGY & ONCOLOGY' 'UROLOGY'\n",
            " 'PAIN MEDICINE' 'NEUROLOGY' 'RADIOLOGY' 'GASTROENTEROLOGY'\n",
            " 'EMERGENCY MEDICINE'] \n",
            "\n",
            "Ntm_Specialist_Flag ['Others' 'Specialist'] \n",
            "\n",
            "Ntm_Speciality_Bucket ['OB/GYN/Others/PCP/Unknown' 'Endo/Onc/Uro' 'Rheum'] \n",
            "\n",
            "Gluco_Record_Prior_Ntm ['N' 'Y'] \n",
            "\n",
            "Gluco_Record_During_Rx ['N' 'Y'] \n",
            "\n",
            "Dexa_Freq_During_Rx [ 0  2  7  3  5 20 13  1  6 12  4 10 25 11 18 21 15 28 22 37] \n",
            "\n",
            "Dexa_During_Rx ['N' 'Y'] \n",
            "\n",
            "Frag_Frac_Prior_Ntm ['N' 'Y'] \n",
            "\n",
            "Frag_Frac_During_Rx ['N' 'Y'] \n",
            "\n",
            "Risk_Segment_Prior_Ntm ['VLR_LR' 'HR_VHR'] \n",
            "\n",
            "Tscore_Bucket_Prior_Ntm ['>-2.5' '<=-2.5'] \n",
            "\n",
            "Risk_Segment_During_Rx ['VLR_LR' 'Unknown' 'HR_VHR'] \n",
            "\n",
            "Tscore_Bucket_During_Rx ['<=-2.5' 'Unknown' '>-2.5'] \n",
            "\n",
            "Change_T_Score ['No change' 'Unknown' 'Worsened' 'Improved'] \n",
            "\n",
            "Change_Risk_Segment ['Unknown' 'No change' 'Worsened' 'Improved'] \n",
            "\n",
            "Adherent_Flag ['Adherent' 'Non-Adherent'] \n",
            "\n",
            "Idn_Indicator ['N' 'Y'] \n",
            "\n",
            "Injectable_Experience_During_Rx ['Y' 'N'] \n",
            "\n",
            "Comorb_Encounter_For_Screening_For_Malignant_Neoplasms ['N' 'Y'] \n",
            "\n",
            "Comorb_Encounter_For_Immunization ['Y' 'N'] \n",
            "\n",
            "Comorb_Encntr_For_General_Exam_W_O_Complaint,_Susp_Or_Reprtd_Dx ['Y' 'N'] \n",
            "\n",
            "Comorb_Vitamin_D_Deficiency ['N' 'Y'] \n",
            "\n",
            "Comorb_Other_Joint_Disorder_Not_Elsewhere_Classified ['N' 'Y'] \n",
            "\n",
            "Comorb_Encntr_For_Oth_Sp_Exam_W_O_Complaint_Suspected_Or_Reprtd_Dx ['Y' 'N'] \n",
            "\n",
            "Comorb_Long_Term_Current_Drug_Therapy ['N' 'Y'] \n",
            "\n",
            "Comorb_Dorsalgia ['Y' 'N'] \n",
            "\n",
            "Comorb_Personal_History_Of_Other_Diseases_And_Conditions ['Y' 'N'] \n",
            "\n",
            "Comorb_Other_Disorders_Of_Bone_Density_And_Structure ['N' 'Y'] \n",
            "\n",
            "Comorb_Disorders_of_lipoprotein_metabolism_and_other_lipidemias ['N' 'Y'] \n",
            "\n",
            "Comorb_Osteoporosis_without_current_pathological_fracture ['N' 'Y'] \n",
            "\n",
            "Comorb_Personal_history_of_malignant_neoplasm ['N' 'Y'] \n",
            "\n",
            "Comorb_Gastro_esophageal_reflux_disease ['N' 'Y'] \n",
            "\n",
            "Concom_Cholesterol_And_Triglyceride_Regulating_Preparations ['N' 'Y'] \n",
            "\n",
            "Concom_Narcotics ['N' 'Y'] \n",
            "\n",
            "Concom_Systemic_Corticosteroids_Plain ['N' 'Y'] \n",
            "\n",
            "Concom_Anti_Depressants_And_Mood_Stabilisers ['N' 'Y'] \n",
            "\n",
            "Concom_Fluoroquinolones ['N' 'Y'] \n",
            "\n",
            "Concom_Cephalosporins ['N' 'Y'] \n",
            "\n",
            "Concom_Macrolides_And_Similar_Types ['N' 'Y'] \n",
            "\n",
            "Concom_Broad_Spectrum_Penicillins ['N' 'Y'] \n",
            "\n",
            "Concom_Anaesthetics_General ['N' 'Y'] \n",
            "\n",
            "Concom_Viral_Vaccines ['N' 'Y'] \n",
            "\n",
            "Risk_Type_1_Insulin_Dependent_Diabetes ['N' 'Y'] \n",
            "\n",
            "Risk_Osteogenesis_Imperfecta ['N' 'Y'] \n",
            "\n",
            "Risk_Rheumatoid_Arthritis ['N' 'Y'] \n",
            "\n",
            "Risk_Untreated_Chronic_Hyperthyroidism ['N' 'Y'] \n",
            "\n",
            "Risk_Untreated_Chronic_Hypogonadism ['N' 'Y'] \n",
            "\n",
            "Risk_Untreated_Early_Menopause ['N' 'Y'] \n",
            "\n",
            "Risk_Patient_Parent_Fractured_Their_Hip ['N' 'Y'] \n",
            "\n",
            "Risk_Smoking_Tobacco ['N' 'Y'] \n",
            "\n",
            "Risk_Chronic_Malnutrition_Or_Malabsorption ['N' 'Y'] \n",
            "\n",
            "Risk_Chronic_Liver_Disease ['N' 'Y'] \n",
            "\n",
            "Risk_Family_History_Of_Osteoporosis ['N' 'Y'] \n",
            "\n",
            "Risk_Low_Calcium_Intake ['N' 'Y'] \n",
            "\n",
            "Risk_Vitamin_D_Insufficiency ['N' 'Y'] \n",
            "\n",
            "Risk_Poor_Health_Frailty ['N' 'Y'] \n",
            "\n",
            "Risk_Excessive_Thinness ['N' 'Y'] \n",
            "\n",
            "Risk_Hysterectomy_Oophorectomy ['N' 'Y'] \n",
            "\n",
            "Risk_Estrogen_Deficiency ['N' 'Y'] \n",
            "\n",
            "Risk_Immobilization ['N' 'Y'] \n",
            "\n",
            "Risk_Recurring_Falls ['N' 'Y'] \n",
            "\n",
            "Count_Of_Risks [0 2 1 3 4 5 6 7] \n",
            "\n"
          ]
        }
      ]
    },
    {
      "cell_type": "code",
      "metadata": {
        "colab": {
          "base_uri": "https://localhost:8080/"
        },
        "id": "pCeS0w57dcCo",
        "outputId": "61db8064-b703-467b-e06e-4765f9fd5c39"
      },
      "source": [
        "# make list of variables  types\n",
        "\n",
        "# numerical: discrete vs continuous\n",
        "discrete = [var for var in data.columns if data[var].dtype!='O' and var!='Persistent' and data[var].nunique()<10]\n",
        "continuous = [var for var in data.columns if data[var].dtype!='O' and var!='Non-Persistent' and var not in discrete]\n",
        "\n",
        "# categorical\n",
        "categorical = [var for var in data.columns if data[var].dtype=='O' ]\n",
        "\n",
        "print('There are {} discrete variables'.format(len(discrete)))\n",
        "print('There are {} continuous variables'.format(len(continuous)))\n",
        "print('There are {} categorical variables'.format(len(categorical)))\n"
      ],
      "execution_count": 11,
      "outputs": [
        {
          "output_type": "stream",
          "name": "stdout",
          "text": [
            "There are 2 discrete variables\n",
            "There are 1 continuous variables\n",
            "There are 66 categorical variables\n"
          ]
        }
      ]
    },
    {
      "cell_type": "code",
      "metadata": {
        "colab": {
          "base_uri": "https://localhost:8080/"
        },
        "id": "tj51hukndjZx",
        "outputId": "a4fc606c-9d8d-4e29-cb61-d070292edd20"
      },
      "source": [
        "discrete"
      ],
      "execution_count": 12,
      "outputs": [
        {
          "output_type": "execute_result",
          "data": {
            "text/plain": [
              "['Persistency_Flag', 'Count_Of_Risks']"
            ]
          },
          "metadata": {},
          "execution_count": 12
        }
      ]
    },
    {
      "cell_type": "code",
      "metadata": {
        "colab": {
          "base_uri": "https://localhost:8080/"
        },
        "id": "tmu468dPdpQP",
        "outputId": "e9f28d9b-bd8f-41b2-95b6-a43bdf2a4806"
      },
      "source": [
        "continuous"
      ],
      "execution_count": 13,
      "outputs": [
        {
          "output_type": "execute_result",
          "data": {
            "text/plain": [
              "['Dexa_Freq_During_Rx']"
            ]
          },
          "metadata": {},
          "execution_count": 13
        }
      ]
    },
    {
      "cell_type": "code",
      "metadata": {
        "id": "3sGEW8iUdtAV"
      },
      "source": [
        ""
      ],
      "execution_count": 13,
      "outputs": []
    },
    {
      "cell_type": "code",
      "metadata": {
        "id": "wFpCX10kdxT3"
      },
      "source": [
        "# data = data.replace('Unknown', np.nan)\n",
        "# data = data.replace('Other/Unknown', np.nan)"
      ],
      "execution_count": 14,
      "outputs": []
    },
    {
      "cell_type": "code",
      "metadata": {
        "colab": {
          "base_uri": "https://localhost:8080/"
        },
        "id": "XhlBgRmAe1t7",
        "outputId": "7d0cf604-6eee-4cfc-c08e-ead22b8b729c"
      },
      "source": [
        "data.isnull().sum()"
      ],
      "execution_count": 15,
      "outputs": [
        {
          "output_type": "execute_result",
          "data": {
            "text/plain": [
              "Ptid                              0\n",
              "Persistency_Flag                  0\n",
              "Gender                            0\n",
              "Race                              0\n",
              "Ethnicity                         0\n",
              "                                 ..\n",
              "Risk_Hysterectomy_Oophorectomy    0\n",
              "Risk_Estrogen_Deficiency          0\n",
              "Risk_Immobilization               0\n",
              "Risk_Recurring_Falls              0\n",
              "Count_Of_Risks                    0\n",
              "Length: 69, dtype: int64"
            ]
          },
          "metadata": {},
          "execution_count": 15
        }
      ]
    },
    {
      "cell_type": "code",
      "metadata": {
        "colab": {
          "base_uri": "https://localhost:8080/"
        },
        "id": "QX9YPQlRfFii",
        "outputId": "1a17f735-bfe5-4484-f9a0-7c191f5ab432"
      },
      "source": [
        "# find the variables with missing observations\n",
        "\n",
        "vars_with_na = [var for var in data.columns if data[var].isnull().mean() > 0]\n",
        "\n",
        "vars_with_na "
      ],
      "execution_count": 16,
      "outputs": [
        {
          "output_type": "execute_result",
          "data": {
            "text/plain": [
              "[]"
            ]
          },
          "metadata": {},
          "execution_count": 16
        }
      ]
    },
    {
      "cell_type": "code",
      "metadata": {
        "colab": {
          "base_uri": "https://localhost:8080/",
          "height": 375
        },
        "id": "wchxGVJnfKN2",
        "outputId": "3471f953-0b98-46f8-f91f-c300a094f41b"
      },
      "source": [
        "# let's make a bar plot, with the number of people of a particular race\n",
        "# \n",
        "\n",
        "# the code below counts the number of observations (Race)\n",
        "# within each category and then makes a bar plot\n",
        "\n",
        "fig = data['Race'].value_counts().plot.bar()\n",
        "fig.set_title('Race')\n",
        "fig.set_ylabel('Number of people')"
      ],
      "execution_count": 17,
      "outputs": [
        {
          "output_type": "execute_result",
          "data": {
            "text/plain": [
              "Text(0, 0.5, 'Number of people')"
            ]
          },
          "metadata": {},
          "execution_count": 17
        },
        {
          "output_type": "display_data",
          "data": {
            "image/png": "[encoded data removed]",
            "text/plain": [
              "<Figure size 432x288 with 1 Axes>"
            ]
          },
          "metadata": {
            "needs_background": "light"
          }
        }
      ]
    },
    {
      "cell_type": "code",
      "metadata": {
        "colab": {
          "base_uri": "https://localhost:8080/",
          "height": 367
        },
        "id": "1rmXdiVwfPYG",
        "outputId": "215a4c2a-f940-4334-fbce-2d411e3907ae"
      },
      "source": [
        "# let's make a bar plot, with the number of people of a particular race\n",
        "# \n",
        "\n",
        "# the code below counts the number of observations (Race)\n",
        "# within each category and then makes a bar plot\n",
        "\n",
        "fig = data['Region'].value_counts().plot.bar()\n",
        "fig.set_title('Nuber of people in the region')\n",
        "fig.set_ylabel('Number of people')"
      ],
      "execution_count": 18,
      "outputs": [
        {
          "output_type": "execute_result",
          "data": {
            "text/plain": [
              "Text(0, 0.5, 'Number of people')"
            ]
          },
          "metadata": {},
          "execution_count": 18
        },
        {
          "output_type": "display_data",
          "data": {
            "image/png": "[encoded data removed]",
            "text/plain": [
              "<Figure size 432x288 with 1 Axes>"
            ]
          },
          "metadata": {
            "needs_background": "light"
          }
        }
      ]
    },
    {
      "cell_type": "code",
      "metadata": {
        "id": "kyvAB2x8g2Zb"
      },
      "source": [
        ""
      ],
      "execution_count": 18,
      "outputs": []
    },
    {
      "cell_type": "code",
      "metadata": {
        "colab": {
          "base_uri": "https://localhost:8080/",
          "height": 296
        },
        "id": "P3tWkfXkM9bq",
        "outputId": "2584e9c7-d4c8-4de0-a6fd-840862d21569"
      },
      "source": [
        "# let's make a bar plot, with the number of people of a particular race\n",
        "# \n",
        "\n",
        "# the code below counts the number of observations (Race)\n",
        "# within each category and then makes a bar plot\n",
        "\n",
        "fig = data['Persistency_Flag'].value_counts(normalize=True).plot.bar()\n",
        "fig.set_title('Nuber of people in the region')\n",
        "fig.set_ylabel('Number of people')"
      ],
      "execution_count": 19,
      "outputs": [
        {
          "output_type": "execute_result",
          "data": {
            "text/plain": [
              "Text(0, 0.5, 'Number of people')"
            ]
          },
          "metadata": {},
          "execution_count": 19
        },
        {
          "output_type": "display_data",
          "data": {
            "image/png": "[encoded data removed]",
            "text/plain": [
              "<Figure size 432x288 with 1 Axes>"
            ]
          },
          "metadata": {
            "needs_background": "light"
          }
        }
      ]
    },
    {
      "cell_type": "code",
      "metadata": {
        "id": "T81mZK1NNKHd"
      },
      "source": [
        ""
      ],
      "execution_count": 19,
      "outputs": []
    },
    {
      "cell_type": "code",
      "metadata": {
        "id": "M1l0xz0Or3Um"
      },
      "source": [
        ""
      ],
      "execution_count": 19,
      "outputs": []
    },
    {
      "cell_type": "code",
      "metadata": {
        "colab": {
          "base_uri": "https://localhost:8080/",
          "height": 296
        },
        "id": "1nMhTd28ruDp",
        "outputId": "b1d34880-126f-4c22-ebed-e13266d12257"
      },
      "source": [
        "# let's make a bar plot, with the number of people and the number of risks\n",
        "# \n",
        "\n",
        "# the code below counts the number of observations (Race)\n",
        "# within each category and then makes a bar plot\n",
        "\n",
        "fig = data['Count_Of_Risks'].value_counts().plot.bar()\n",
        "fig.set_title('Count of risks for people')\n",
        "fig.set_ylabel('Number of people')"
      ],
      "execution_count": 20,
      "outputs": [
        {
          "output_type": "execute_result",
          "data": {
            "text/plain": [
              "Text(0, 0.5, 'Number of people')"
            ]
          },
          "metadata": {},
          "execution_count": 20
        },
        {
          "output_type": "display_data",
          "data": {
            "image/png": "[encoded data removed]",
            "text/plain": [
              "<Figure size 432x288 with 1 Axes>"
            ]
          },
          "metadata": {
            "needs_background": "light"
          }
        }
      ]
    },
    {
      "cell_type": "code",
      "metadata": {
        "id": "iGvD2WGcr8xh"
      },
      "source": [
        "import seaborn as sns\n",
        "# for Q-Q plots\n",
        "import scipy.stats as stats\n",
        "def diagnostic_plots(df, variable):\n",
        "    # function takes a dataframe (df) and\n",
        "    # the variable of interest as arguments\n",
        "\n",
        "    # define figure size\n",
        "    plt.figure(figsize=(16, 4))\n",
        "\n",
        "    # histogram\n",
        "    plt.subplot(1, 3, 1)\n",
        "    sns.histplot(df[variable], bins=30)\n",
        "    plt.title('Histogram')\n",
        "\n",
        "    # Q-Q plot\n",
        "    plt.subplot(1, 3, 2)\n",
        "    stats.probplot(df[variable], dist=\"norm\", plot=plt)\n",
        "    plt.ylabel('RM quantiles')\n",
        "\n",
        "    # boxplot\n",
        "    plt.subplot(1, 3, 3)\n",
        "    sns.boxplot(y=df[variable])\n",
        "    plt.title('Boxplot')\n",
        "\n",
        "    plt.show()"
      ],
      "execution_count": 21,
      "outputs": []
    },
    {
      "cell_type": "code",
      "metadata": {
        "colab": {
          "base_uri": "https://localhost:8080/",
          "height": 296
        },
        "id": "urfDE037sa96",
        "outputId": "f141e75b-5d27-45e1-9c27-51b70d0d2ec5"
      },
      "source": [
        "# let's start with the  dataset.\n",
        "\n",
        "diagnostic_plots(data, 'Dexa_Freq_During_Rx')"
      ],
      "execution_count": 22,
      "outputs": [
        {
          "output_type": "display_data",
          "data": {
            "image/png": "[encoded data removed]",
            "text/plain": [
              "<Figure size 1152x288 with 3 Axes>"
            ]
          },
          "metadata": {
            "needs_background": "light"
          }
        }
      ]
    },
    {
      "cell_type": "code",
      "metadata": {
        "id": "jznrwzbIfyOr"
      },
      "source": [
        "#Dexa_Freq_During_Rx is heavily skewed, with a tail to the right. There seems to be quite a few outliers as well at the right end of the distribution, according to the boxplot."
      ],
      "execution_count": 23,
      "outputs": []
    },
    {
      "cell_type": "code",
      "metadata": {
        "id": "QB77I5B4iFVp"
      },
      "source": [
        "# "
      ],
      "execution_count": 24,
      "outputs": []
    },
    {
      "cell_type": "code",
      "metadata": {
        "id": "R6HMdqwGiF6D"
      },
      "source": [
        "# function to find upper and lower boundaries\n",
        "# for skewed distributed variables\n",
        "\n",
        "\n",
        "def find_skewed_boundaries(df, variable, distance):\n",
        "\n",
        "    # Let's calculate the boundaries outside which sit the outliers\n",
        "    # for skewed distributions\n",
        "\n",
        "    # distance passed as an argument, gives us the option to\n",
        "    # estimate 1.5 times or 3 times the IQR to calculate\n",
        "    # the boundaries.\n",
        "\n",
        "    IQR = df[variable].quantile(0.75) - df[variable].quantile(0.25)\n",
        "\n",
        "    lower_boundary = df[variable].quantile(0.25) - (IQR * distance)\n",
        "    upper_boundary = df[variable].quantile(0.75) + (IQR * distance)\n",
        "\n",
        "    return upper_boundary, lower_boundary"
      ],
      "execution_count": 25,
      "outputs": []
    },
    {
      "cell_type": "code",
      "metadata": {
        "id": "ipbKrnzFsiCD",
        "colab": {
          "base_uri": "https://localhost:8080/"
        },
        "outputId": "ea442405-a81a-40ba-a39e-caa61bccf534"
      },
      "source": [
        "# looking for outliers,\n",
        "# using the interquantile proximity rule\n",
        "# IQR * 1.5, the standard metric\n",
        "\n",
        "# dataset\n",
        "\n",
        "upper_boundary, lower_boundary = find_skewed_boundaries(data, 'Dexa_Freq_During_Rx', 1.5)\n",
        "upper_boundary, lower_boundary"
      ],
      "execution_count": 26,
      "outputs": [
        {
          "output_type": "execute_result",
          "data": {
            "text/plain": [
              "(7.5, -4.5)"
            ]
          },
          "metadata": {},
          "execution_count": 26
        }
      ]
    },
    {
      "cell_type": "code",
      "metadata": {
        "id": "lJtkLhrwdPJ6",
        "colab": {
          "base_uri": "https://localhost:8080/"
        },
        "outputId": "4b4caf83-d58a-4559-9f7f-3c3eb3c1444b"
      },
      "source": [
        "# lets look at the number and percentage of outliers\n",
        "# for LSTAT\n",
        "\n",
        "print('total umber of patients: {}'.format(len(data)))\n",
        "\n",
        "print('Patients with Dexa_Freq_During_Rx bigger than 32: {}'.format(\n",
        "    len(data[data['Dexa_Freq_During_Rx'] > upper_boundary])))\n",
        "print()\n",
        "print('%Patients with Dexa_Freq_During_Rx bigger than 32: {}'.format(\n",
        "    len(data[data['Dexa_Freq_During_Rx'] > upper_boundary])/len(data)))"
      ],
      "execution_count": 27,
      "outputs": [
        {
          "output_type": "stream",
          "name": "stdout",
          "text": [
            "total umber of patients: 3424\n",
            "Patients with Dexa_Freq_During_Rx bigger than 32: 460\n",
            "\n",
            "%Patients with Dexa_Freq_During_Rx bigger than 32: 0.13434579439252337\n"
          ]
        }
      ]
    },
    {
      "cell_type": "code",
      "metadata": {
        "id": "BrIWV6Ufc1nh"
      },
      "source": [
        "def find_skewed_boundaries(df, variable, distance):\n",
        "\n",
        "    # Let's calculate the boundaries outside which sit the outliers\n",
        "    # for skewed distributions\n",
        "\n",
        "    # distance passed as an argument, gives us the option to\n",
        "    # estimate 1.5 times or 3 times the IQR to calculate\n",
        "    # the boundaries.\n",
        "\n",
        "    IQR = df[variable].quantile(0.75) - df[variable].quantile(0.25)\n",
        "\n",
        "    lower_boundary = df[variable].quantile(0.25) - (IQR * distance)\n",
        "    upper_boundary = df[variable].quantile(0.75) + (IQR * distance)\n",
        "\n",
        "    return upper_boundary, lower_boundary"
      ],
      "execution_count": 28,
      "outputs": []
    },
    {
      "cell_type": "code",
      "metadata": {
        "id": "Mw3g6mn-dGXW",
        "colab": {
          "base_uri": "https://localhost:8080/"
        },
        "outputId": "f648ff19-f69b-417b-c475-f3bbcba1ccfd"
      },
      "source": [
        "# limits for CRIM\n",
        "\n",
        "CRIM_upper_limit, CRIM_lower_limit = find_skewed_boundaries(data, 'Dexa_Freq_During_Rx', 1.5)\n",
        "CRIM_upper_limit, CRIM_lower_limit"
      ],
      "execution_count": 29,
      "outputs": [
        {
          "output_type": "execute_result",
          "data": {
            "text/plain": [
              "(7.5, -4.5)"
            ]
          },
          "metadata": {},
          "execution_count": 29
        }
      ]
    },
    {
      "cell_type": "code",
      "metadata": {
        "id": "ZzDh3lvbe5Ir"
      },
      "source": [
        "# let's flag the outliers in the data set\n",
        "\n",
        "outliers_CRIM = np.where(data['Dexa_Freq_During_Rx'] > CRIM_upper_limit, True,\n",
        "                       np.where(data['Dexa_Freq_During_Rx'] < CRIM_lower_limit, True, False))"
      ],
      "execution_count": 30,
      "outputs": []
    },
    {
      "cell_type": "code",
      "metadata": {
        "id": "tDHcI6mUd_EI",
        "colab": {
          "base_uri": "https://localhost:8080/"
        },
        "outputId": "09cae1a6-1cb2-450e-9014-9f2a3c4c8df2"
      },
      "source": [
        "# let's trimm the dataset\n",
        "\n",
        "data_trimmed = data.loc[~(outliers_CRIM), ]\n",
        "\n",
        "data.shape, data_trimmed.shape"
      ],
      "execution_count": 31,
      "outputs": [
        {
          "output_type": "execute_result",
          "data": {
            "text/plain": [
              "((3424, 69), (2964, 69))"
            ]
          },
          "metadata": {},
          "execution_count": 31
        }
      ]
    },
    {
      "cell_type": "code",
      "metadata": {
        "colab": {
          "base_uri": "https://localhost:8080/",
          "height": 296
        },
        "id": "j8oCCbQ1G5hN",
        "outputId": "1e7d2ead-2f0f-4161-f780-52bdf94a57ad"
      },
      "source": [
        "diagnostic_plots(data_trimmed, 'Dexa_Freq_During_Rx')"
      ],
      "execution_count": 32,
      "outputs": [
        {
          "output_type": "display_data",
          "data": {
            "image/png": "[encoded data removed]",
            "text/plain": [
              "<Figure size 1152x288 with 3 Axes>"
            ]
          },
          "metadata": {
            "needs_background": "light"
          }
        }
      ]
    },
    {
      "cell_type": "code",
      "metadata": {
        "id": "fDYTtu-XHJea"
      },
      "source": [
        ""
      ],
      "execution_count": 32,
      "outputs": []
    }
  ]
}